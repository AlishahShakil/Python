{
 "cells": [
  {
   "cell_type": "markdown",
   "id": "35202cef-8267-49f2-96ae-b50ad45384c2",
   "metadata": {},
   "source": [
    "# List"
   ]
  },
  {
   "cell_type": "code",
   "execution_count": 22,
   "id": "2eeae1d4-24a7-40c5-a4bc-4592471550f5",
   "metadata": {},
   "outputs": [
    {
     "name": "stdout",
     "output_type": "stream",
     "text": [
      "[78, 81.5, 33, 89.5, 90]\n",
      "<class 'list'>\n",
      "78\n",
      "90\n",
      "length: 5\n"
     ]
    }
   ],
   "source": [
    "#list are mutable--- stores multiple values of multiple data types\n",
    "marks=[78,81.5,33,89.5,90]\n",
    "print(marks)\n",
    "print(type(marks))\n",
    "print(marks[0])\n",
    "print(marks[4])\n",
    "print(\"length:\",len(marks))\n"
   ]
  },
  {
   "cell_type": "code",
   "execution_count": 23,
   "id": "1e4e9267-3b1b-4f4e-91f6-9fbab7f51870",
   "metadata": {},
   "outputs": [
    {
     "name": "stdout",
     "output_type": "stream",
     "text": [
      "ali\n",
      "['Asma', 78, 21, 'ABC Road']\n",
      "[81.5, 33, 89.5, 90]\n",
      "[33, 89.5]\n"
     ]
    }
   ],
   "source": [
    "#In python strings are immutable and lists are mutable\n",
    "student=[\"ali\",78,21,\"ABC Road\"]\n",
    "print(student[0])\n",
    "student[0]=\"Asma\"\n",
    "print(student)\n",
    "#slicing\n",
    "marks=[78,81.5,33,89.5,90]\n",
    "print(marks[1:5])\n",
    "print(marks[-3:-1])\n"
   ]
  },
  {
   "cell_type": "code",
   "execution_count": 21,
   "id": "8fa5da5a-8869-4a12-8b9a-a37524fc54ed",
   "metadata": {},
   "outputs": [
    {
     "name": "stdout",
     "output_type": "stream",
     "text": [
      "[2, 1, 3, 4]\n",
      "[2, 1, 7, 3, 4]\n",
      "[1, 2, 3, 4, 7]\n",
      "[7, 4, 3, 2, 1]\n",
      "['Pineapple', 'Mango', 'Kiwi', 'Banana']\n",
      "['Banana', 'Kiwi', 'Mango', 'Pineapple']\n",
      "[2, 3, 1]\n",
      "[7, 4, 2, 1]\n"
     ]
    }
   ],
   "source": [
    "#list_Methods\n",
    "#append---add one element in last\n",
    "list=[2,1,3]\n",
    "list.append(4)  #mutating/changing the list\n",
    "print(list)\n",
    "\n",
    "#insert---similar to append but add value at specific index\n",
    "list.insert(2,7) #[index,value]\n",
    "print(list)\n",
    "\n",
    "#sorting\n",
    "list1=[\"Mango\",\"Kiwi\",\"Pineapple\",\"Banana\"]\n",
    "list.sort()  #automatically sort in ascending order\n",
    "print(list)\n",
    "list.sort(reverse=True)  #descending order\n",
    "list1.sort(reverse=True)  #descending order\n",
    "print(list)\n",
    "print(list1)\n",
    "\n",
    "#reverse\n",
    "list1.reverse()\n",
    "print(list1)\n",
    "\n",
    "#remove---remove first occurence of element\n",
    "list2=[2,1,3,1]\n",
    "list2.remove(1)\n",
    "print(list2)\n",
    "\n",
    "#pop---element at indx\n",
    "list.pop(2)  #index 2\n",
    "print(list)"
   ]
  },
  {
   "cell_type": "markdown",
   "id": "3a842060-89bf-48b6-a9fc-429b2a89975f",
   "metadata": {},
   "source": [
    "# Tuples"
   ]
  },
  {
   "cell_type": "code",
   "execution_count": 28,
   "id": "af6c305d-20c7-4817-b073-2b3bb9775a4b",
   "metadata": {},
   "outputs": [
    {
     "name": "stdout",
     "output_type": "stream",
     "text": [
      "2\n",
      "<class 'tuple'>\n",
      "<class 'int'>\n",
      "(1,)\n",
      "<class 'tuple'>\n",
      "(2, 1)\n"
     ]
    }
   ],
   "source": [
    "#Tuples are immutable just like strings\n",
    "tuple=(2,1,3,1)\n",
    "print(tuple[0])\n",
    "print(type(tuple))\n",
    "\n",
    "tup=()  #empty tuple\n",
    "tup=(1)  #without comma it is considered as int\n",
    "print(type(tup))\n",
    "tup=(1,)\n",
    "print(tup)\n",
    "print(type(tup))\n",
    "\n",
    "#slicing\n",
    "print(tuple[0:2])\n",
    "\n"
   ]
  },
  {
   "cell_type": "code",
   "execution_count": 30,
   "id": "39d9a1ed-00db-47aa-aece-2680dc68d4d5",
   "metadata": {},
   "outputs": [
    {
     "name": "stdout",
     "output_type": "stream",
     "text": [
      "0\n",
      "2\n"
     ]
    }
   ],
   "source": [
    "#Tuple_Methods\n",
    "#index---return index of 1 occurence\n",
    "tup=(98,33,22,11,98)\n",
    "print(tup.index(98))\n",
    "\n",
    "#count\n",
    "print(tup.count(98))\n"
   ]
  },
  {
   "cell_type": "markdown",
   "id": "e749c8cc-d847-415f-94e6-2ddf2aa7e9a2",
   "metadata": {},
   "source": [
    "# Practice question"
   ]
  },
  {
   "cell_type": "code",
   "execution_count": 46,
   "id": "7a806317-15f2-4997-b938-56509934b7e0",
   "metadata": {},
   "outputs": [
    {
     "name": "stdin",
     "output_type": "stream",
     "text": [
      "Enter 1 movie: Cindrella\n",
      "Enter 2 movie: Tangled\n",
      "Enter 3 movie: Barbie\n"
     ]
    },
    {
     "name": "stdout",
     "output_type": "stream",
     "text": [
      "['Cindrella', 'Tangled', 'Barbie']\n"
     ]
    }
   ],
   "source": [
    "#Ask user to enter 3 fav movies and store them in list\n",
    "movies=[]\n",
    "mov1=input(\"Enter 1 movie:\")\n",
    "mov2=input(\"Enter 2 movie:\")\n",
    "mov3=input(\"Enter 3 movie:\")\n",
    "movies.append(mov1)\n",
    "movies.append(mov2)\n",
    "movies.append(mov3)\n",
    "print(movies)"
   ]
  },
  {
   "cell_type": "code",
   "execution_count": 44,
   "id": "131aa702-a4fd-468a-bbce-da22953f1b2c",
   "metadata": {},
   "outputs": [
    {
     "name": "stdout",
     "output_type": "stream",
     "text": [
      "2\n",
      "['A', 'A', 'B', 'C', 'D', 'F']\n"
     ]
    }
   ],
   "source": [
    "#count the number of student with A grade in tuple and sort the above in a list\n",
    "grade=(\"A\",\"B\",\"A\",\"D\",\"F\",\"C\")\n",
    "print(grade.count(\"A\"))\n",
    "grade=[\"A\",\"B\",\"A\",\"D\",\"F\",\"C\"]\n",
    "grade.sort()\n",
    "print(grade)"
   ]
  },
  {
   "cell_type": "code",
   "execution_count": 45,
   "id": "49dacfbb-da19-4ff1-95c4-fccd605d6c49",
   "metadata": {},
   "outputs": [
    {
     "name": "stdout",
     "output_type": "stream",
     "text": [
      "Palindrome\n",
      "Non-Palindrome\n"
     ]
    }
   ],
   "source": [
    "#check if list contains palindrome\n",
    "list1=[1,2,1]\n",
    "cp_list1=list1.copy()\n",
    "cp_list1.reverse()\n",
    "if(cp_list1==list1):\n",
    "    print(\"Palindrome\")\n",
    "else:\n",
    "    print(\"Non-Palindrome\")\n",
    "    \n",
    "list2=[\"m\",\"a\",\"a\",\"m\",\"p\"]\n",
    "cp_list2=list2.copy()\n",
    "cp_list2.reverse()\n",
    "if(cp_list2==list2):\n",
    "    print(\"Palindrome\")\n",
    "else:\n",
    "    print(\"Non-Palindrome\")"
   ]
  },
  {
   "cell_type": "code",
   "execution_count": 50,
   "id": "18aa45ac-0820-428e-a602-c613e97ad1a1",
   "metadata": {},
   "outputs": [
    {
     "name": "stdout",
     "output_type": "stream",
     "text": [
      "Total amount: 1960\n",
      "Average donation amount: 490.0\n"
     ]
    }
   ],
   "source": [
    "#Sara is organizing a fundraiser for her school. She wants to keep track of the donations received from various sponsors. Write a Python program to help Sara manage the donations. The program should do the following:\n",
    "#1.\tInitialize an empty list called donations to store the amounts donated.\n",
    "#2.\tThe donation amount for each sponsor and add each donation amount to the donations list. Add the amount 360 ,890, 450 ,  and 260 using the insert method.\n",
    "#3.\tCalculate and display the total amount raised from all sponsors.\n",
    "#4.\tCalculate and display the average donation amount.\n",
    "\n",
    "donations=[]\n",
    "donations.insert(0,360)\n",
    "donations.insert(1,890)\n",
    "donations.insert(2,450)\n",
    "donations.insert(3,260)\n",
    "total_amount=sum(donations)\n",
    "print(\"Total amount:\",total_amount)\n",
    "average_donation_amount=total_amount/len(donations)\n",
    "print(\"Average donation amount:\",average_donation_amount)"
   ]
  },
  {
   "cell_type": "code",
   "execution_count": null,
   "id": "3cf35ca0-673c-4b4c-bc87-ad49337578e3",
   "metadata": {},
   "outputs": [],
   "source": []
  }
 ],
 "metadata": {
  "kernelspec": {
   "display_name": "Python 3 (ipykernel)",
   "language": "python",
   "name": "python3"
  },
  "language_info": {
   "codemirror_mode": {
    "name": "ipython",
    "version": 3
   },
   "file_extension": ".py",
   "mimetype": "text/x-python",
   "name": "python",
   "nbconvert_exporter": "python",
   "pygments_lexer": "ipython3",
   "version": "3.11.7"
  }
 },
 "nbformat": 4,
 "nbformat_minor": 5
}
