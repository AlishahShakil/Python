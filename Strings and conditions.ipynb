{
 "cells": [
  {
   "cell_type": "code",
   "execution_count": 6,
   "id": "891f4956-17dc-4d4f-ac31-5ea762f001ae",
   "metadata": {},
   "outputs": [
    {
     "name": "stdout",
     "output_type": "stream",
     "text": [
      "Length of first string 7\n",
      "Alishah Shakil\n",
      "total length 14\n"
     ]
    }
   ],
   "source": [
    "str1=\"Alishah\"\n",
    "print(\"Length of first string\",len(str1))\n",
    "str2=\"Shakil\"\n",
    "final_str=str1+\" \"+str2\n",
    "print(final_str)\n",
    "print(\"total length\",len(final_str))"
   ]
  },
  {
   "cell_type": "code",
   "execution_count": 10,
   "id": "1b1a253c-4aa9-4db7-a333-7852f1b3f155",
   "metadata": {},
   "outputs": [
    {
     "name": "stdout",
     "output_type": "stream",
     "text": [
      "B\n",
      "N\n"
     ]
    }
   ],
   "source": [
    "#index\n",
    "str=\"Blue Nile\"\n",
    "ch=str[0]\n",
    "print(ch)\n",
    "ch=str[5]\n",
    "print(ch)\n"
   ]
  },
  {
   "cell_type": "code",
   "execution_count": 21,
   "id": "6b53e7e0-dccd-4126-bc45-71b7fbc1d182",
   "metadata": {},
   "outputs": [
    {
     "name": "stdout",
     "output_type": "stream",
     "text": [
      "isha\n",
      "School\n",
      "app\n"
     ]
    }
   ],
   "source": [
    "#Slicing\n",
    "str=\"Alishah\"\n",
    "print(str[2:6])\n",
    "\n",
    "str1=\"My School\"\n",
    "print(str1[3:10]) #[4:]\n",
    "\n",
    "#negative index\n",
    "str2=\"apple\"\n",
    "print(str2[-5:-2])\n"
   ]
  },
  {
   "cell_type": "code",
   "execution_count": 31,
   "id": "d4187555-4656-4373-86b1-b54e102a5669",
   "metadata": {},
   "outputs": [
    {
     "name": "stdout",
     "output_type": "stream",
     "text": [
      "True\n",
      "False\n",
      "I am a student\n",
      "i Am A student\n",
      "7\n",
      "-1\n",
      "2\n"
     ]
    },
    {
     "name": "stdin",
     "output_type": "stream",
     "text": [
      "Enter your name Alishah\n"
     ]
    },
    {
     "name": "stdout",
     "output_type": "stream",
     "text": [
      "Alishah\n",
      "name length: 7\n"
     ]
    }
   ],
   "source": [
    "#function\n",
    "str=\"i am a student\"\n",
    "print(str.endswith(\"nt\"))\n",
    "print(str.endswith(\"am\"))\n",
    "print(str.capitalize())\n",
    "print(str.replace(\"a\",\"A\"))\n",
    "print(str.find(\"s\"))\n",
    "print(str.find(\"o\")) #returns -1 because it is not present in substring\n",
    "print(str.count(\"t\"))\n",
    "\n",
    "#question\n",
    "name=input(\"Enter your name\")\n",
    "print(\"name length:\",len(name))"
   ]
  },
  {
   "cell_type": "code",
   "execution_count": 39,
   "id": "9df0e9b3-a64c-486c-b090-f227dcb797ad",
   "metadata": {},
   "outputs": [
    {
     "name": "stdin",
     "output_type": "stream",
     "text": [
      "Enter your name ema\n"
     ]
    },
    {
     "name": "stdout",
     "output_type": "stream",
     "text": [
      "name length: 3\n"
     ]
    },
    {
     "name": "stdin",
     "output_type": "stream",
     "text": [
      "Enter your age 18\n"
     ]
    },
    {
     "name": "stdout",
     "output_type": "stream",
     "text": [
      "Can caste vote if they have NIC\n"
     ]
    }
   ],
   "source": [
    "#conditional statement and nesting\n",
    "name=input(\"Enter your name\")\n",
    "print(\"name length:\",len(name))\n",
    "age=int(input(\"Enter your age\"))\n",
    "if(age>18):\n",
    "    if(age>=80):\n",
    "        print(\"Elligible for online Voting\")\n",
    "    else:    \n",
    "        print(\"Elligible for Voting\")\n",
    "elif(age==18):\n",
    "    print(\"Can caste vote if they have NIC\")\n",
    "else:\n",
    "    print(\"Not elligible for voting\")"
   ]
  },
  {
   "cell_type": "code",
   "execution_count": 42,
   "id": "4b4cf305-98ac-403b-9707-86975cabf9a8",
   "metadata": {},
   "outputs": [
    {
     "name": "stdin",
     "output_type": "stream",
     "text": [
      "Enter number: 89\n"
     ]
    },
    {
     "name": "stdout",
     "output_type": "stream",
     "text": [
      "odd\n",
      "------------------------------\n"
     ]
    },
    {
     "name": "stdin",
     "output_type": "stream",
     "text": [
      "Enter 1 number: 44\n",
      "Enter 2 number: 23\n",
      "Enter 3 number: 11\n"
     ]
    },
    {
     "name": "stdout",
     "output_type": "stream",
     "text": [
      "first number is largest 44\n"
     ]
    }
   ],
   "source": [
    "#check if a number entered by user is odd or even\n",
    "num=int(input(\"Enter number:\"))\n",
    "rem=num % 2\n",
    "if(rem==0):\n",
    "    print(\"even\")\n",
    "else:\n",
    "    print(\"odd\")\n",
    "print(\"------------------------------\")\n",
    "#find the greatest of 3 numbers entered by the user\n",
    "a=int(input(\"Enter 1 number:\"))\n",
    "b=int(input(\"Enter 2 number:\"))\n",
    "c=int(input(\"Enter 3 number:\"))\n",
    "if(a>=b and a>=c):\n",
    "    print(\"first number is largest\",a)\n",
    "elif(b>=c):\n",
    "    print(\"second number is largest\",b)\n",
    "else:\n",
    "    print(\"third is largest\",c)\n",
    "print(\"------------------------------\")\n",
    "x=int(input(\"Enter number:\"))\n",
    "if(x%7==0):\n",
    "    print(Multiple of 7\""
   ]
  },
  {
   "cell_type": "code",
   "execution_count": null,
   "id": "603ed8ac-bdce-4d1f-ae81-00e502f68592",
   "metadata": {},
   "outputs": [],
   "source": []
  }
 ],
 "metadata": {
  "kernelspec": {
   "display_name": "Python 3 (ipykernel)",
   "language": "python",
   "name": "python3"
  },
  "language_info": {
   "codemirror_mode": {
    "name": "ipython",
    "version": 3
   },
   "file_extension": ".py",
   "mimetype": "text/x-python",
   "name": "python",
   "nbconvert_exporter": "python",
   "pygments_lexer": "ipython3",
   "version": "3.11.7"
  }
 },
 "nbformat": 4,
 "nbformat_minor": 5
}
