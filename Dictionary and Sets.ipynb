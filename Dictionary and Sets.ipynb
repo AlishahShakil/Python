{
 "cells": [
  {
   "cell_type": "markdown",
   "id": "989052c0-68c4-4da6-88d9-f72b92ef427a",
   "metadata": {},
   "source": [
    "# Dictionary"
   ]
  },
  {
   "cell_type": "code",
   "execution_count": 12,
   "id": "35e66725-e4f8-45e1-8a3b-3d55b13befc6",
   "metadata": {},
   "outputs": [
    {
     "name": "stdout",
     "output_type": "stream",
     "text": [
      "<class 'dict'>\n",
      "Alishah\n",
      "22\n",
      "{'name': 'Sana', 'subjects': ['Python', 'C', 'Java'], 'topics': ('dict', 'sets'), 'age': 22, 'marks': 90, 'surname': 'Khan'}\n",
      "Marks of english: 77\n"
     ]
    }
   ],
   "source": [
    "#dictionary--mutable/are unordered and not allow duplicate key --key--float,tuple,boolean,strings\n",
    "info={\n",
    "    \"name\":\"Alishah\",\n",
    "    \"subjects\":[\"Python\",\"C\",\"Java\"],\n",
    "    \"topics\":(\"dict\",\"sets\"),\n",
    "    \"age\":22,\n",
    "    \"marks\":90\n",
    "}\n",
    "print(type(info))\n",
    "print(info[\"name\"])\n",
    "print(info[\"age\"])\n",
    "\n",
    "info[\"name\"]=\"Sana\"\n",
    "info[\"surname\"]=\"Khan\"\n",
    "print(info)\n",
    "\n",
    "#nested dictionary\n",
    "student={\n",
    "    \"name\":\"Bilal\",\n",
    "    \"Subjects\":{\n",
    "        \"Maths\":56,\n",
    "        \"urdu\":80,\n",
    "        \"english\":77\n",
    "    },\n",
    "    \"age\":22\n",
    "}\n",
    "print(\"Marks of english:\",student[\"Subjects\"][\"english\"])"
   ]
  },
  {
   "cell_type": "code",
   "execution_count": 33,
   "id": "4488067a-b54b-47d9-8591-ab09affd128d",
   "metadata": {},
   "outputs": [
    {
     "name": "stdout",
     "output_type": "stream",
     "text": [
      "<class 'dict_keys'>\n",
      "dict_keys(['name', 'Subjects', 'age'])\n",
      "<class 'list'>\n",
      "['name', 'Subjects', 'age']\n",
      "3\n",
      "dict_values(['Bilal', {'Maths': 56, 'urdu': 80, 'english': 77}, 22])\n",
      "['Bilal', {'Maths': 56, 'urdu': 80, 'english': 77}, 22]\n",
      "dict_items([('name', 'Bilal'), ('Subjects', {'Maths': 56, 'urdu': 80, 'english': 77}), ('age', 22)])\n",
      "[('name', 'Bilal'), ('Subjects', {'Maths': 56, 'urdu': 80, 'english': 77}), ('age', 22)]\n",
      "('age', 22)\n",
      "None\n",
      "{'name': 'zain', 'Subjects': {'Maths': 56, 'urdu': 80, 'english': 77}, 'age': 22, 'city': 'karachi', 'address': 'ABC road'}\n"
     ]
    }
   ],
   "source": [
    "#dictionary_methods\n",
    "student={\n",
    "    \"name\":\"Bilal\",\n",
    "    \"Subjects\":{\n",
    "        \"Maths\":56,\n",
    "        \"urdu\":80,\n",
    "        \"english\":77\n",
    "    },\n",
    "    \"age\":22\n",
    "}\n",
    "print(type(student.keys()))\n",
    "print(student.keys())\n",
    "print(type(list(student.keys())))\n",
    "print(list(student.keys()))\n",
    "print(len(list(student.keys())))\n",
    "\n",
    "print(student.values())\n",
    "print(list(student.values()))\n",
    "\n",
    "print(student.items())   #returns key value pairs as tuple\n",
    "print(list(student.items()))\n",
    "pairs=list(student.items())\n",
    "print(pairs[2])\n",
    "\n",
    "#print(student[\"name2\"]) #error\n",
    "print(student.get(\"name2\")) #no error just return none becuse this key doesn't exist\n",
    "\n",
    "student.update({\"city\":\"karachi\"})\n",
    "new_dict={\"name\":\"zain\",\"address\":\"ABC road\"}\n",
    "student.update(new_dict)\n",
    "print(student)\n"
   ]
  },
  {
   "cell_type": "markdown",
   "id": "019208ca-cfcd-4bed-8820-7033269c4166",
   "metadata": {},
   "source": [
    "# Sets"
   ]
  },
  {
   "cell_type": "code",
   "execution_count": 45,
   "id": "ce8fae98-4d48-4d3c-990f-c4666708b600",
   "metadata": {},
   "outputs": [
    {
     "name": "stdout",
     "output_type": "stream",
     "text": [
      "{1, 2, 3, 'hello', 4, 5, 'world'}\n",
      "<class 'set'>\n",
      "7\n",
      "<class 'set'>\n",
      "{2, 4, 6}\n",
      "{4, 6}\n",
      "2\n",
      "0\n",
      "{1, 3, 4, 5, 6, 7, 9, 11}\n",
      "{1, 3, 5, 7}\n",
      "{4, 6, 9, 11}\n",
      "{4, 6}\n"
     ]
    }
   ],
   "source": [
    "#unordered---mutable---- elements must be unique and immutable\n",
    "collection={1,2,2,3,\"hello\",\"world\",\"hello\",4,5}  #ignore duplicate value\n",
    "print(collection)\n",
    "print(type(collection))\n",
    "print(len(collection))\n",
    "\n",
    "f=set() #empty set\n",
    "print(type(f))\n",
    "\n",
    "#set_methods\n",
    "f.add(2) #can add string ,tuple but we cannot add list and dictionary \n",
    "f.add(2)\n",
    "f.add(4)\n",
    "f.add(6)\n",
    "print(f)\n",
    "f.remove(2)\n",
    "print(f)\n",
    "print(len(f))\n",
    "#f.remove(9)  #key error bcz element doesnt exist\n",
    "f.clear()\n",
    "print(len(f))\n",
    "#union and intersection\n",
    "a={1,3,4,5,6,7}\n",
    "b={1,3,5,7,9,11}\n",
    "print(a.union(b))\n",
    "print(a.intersection(b))\n",
    "print(a.symmetric_difference(b))\n",
    "print(a.difference(b))\n"
   ]
  },
  {
   "cell_type": "code",
   "execution_count": null,
   "id": "1f3bae87-0d20-432e-9856-6ef810e9a02c",
   "metadata": {},
   "outputs": [],
   "source": []
  },
  {
   "cell_type": "code",
   "execution_count": null,
   "id": "38b3542b-c6f7-497f-a912-51c7544fdd4d",
   "metadata": {},
   "outputs": [],
   "source": []
  },
  {
   "cell_type": "code",
   "execution_count": null,
   "id": "4322dc5d-3e2f-4ff6-8f4c-fda2e21c2d0e",
   "metadata": {},
   "outputs": [],
   "source": []
  }
 ],
 "metadata": {
  "kernelspec": {
   "display_name": "Python 3 (ipykernel)",
   "language": "python",
   "name": "python3"
  },
  "language_info": {
   "codemirror_mode": {
    "name": "ipython",
    "version": 3
   },
   "file_extension": ".py",
   "mimetype": "text/x-python",
   "name": "python",
   "nbconvert_exporter": "python",
   "pygments_lexer": "ipython3",
   "version": "3.11.7"
  }
 },
 "nbformat": 4,
 "nbformat_minor": 5
}
